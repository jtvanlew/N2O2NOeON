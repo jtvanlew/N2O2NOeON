{
 "metadata": {
  "name": "",
  "signature": "sha256:e07687c4b5c7016dc5969f1d062d509fc23610e8da65cb715d23dd5c18e85a2c"
 },
 "nbformat": 3,
 "nbformat_minor": 0,
 "worksheets": [
  {
   "cells": [
    {
     "cell_type": "markdown",
     "metadata": {},
     "source": [
      "# High temperature equilibrium properties of air\n",
      "\n",
      "Starting from partition functions, we wish to compute equilibrium thermodynamic properties of air as a function of pressure and temperature. We will try to maintain some realism by assuming that air is a mixture of N$_2$ and O$_2$ at low temperatures (with a mixture percentage of 79% and 21%, respectively). \n",
      "\n",
      "At high temperatures, we'll consider the air as a mixture of N$_2$, N, O$_2$, O, NO, e$^-$, O$^+$, N$^+$, and NO$^+$. The partition functions and disassociations of the molecules we take from references (without deriving them here).\n",
      "\n",
      "Our objective here is to compute, as functions of temperature and pressure:  \n",
      "\n",
      " - enthalpy, $h$\n",
      " - internal energy, $e$\n",
      " - entropy, $s$\n",
      " - mass fractions of the species, $c_i$\n",
      " - densities of the species, $\\rho_i$\n",
      " - compressibility factor, $Z$"
     ]
    },
    {
     "cell_type": "markdown",
     "metadata": {},
     "source": [
      "## Law of mass action\n",
      "Our fundamental capability to compute the above requirements comes from the link between thermodynamic properties and quantum energy states, known as the Law of Mass Action:\n",
      "\n",
      "$\\begin{align}\n",
      "K_p(T)&=\\prod\\limits_iP_i^{\\nu_i}\n",
      "\\end{align}$\n",
      "\n",
      "But the RHS can also be found from partition functions as:\n",
      "\n",
      "$\\begin{align}\n",
      "\\prod\\limits_iP_i^{\\nu_i}=\\left(\\cfrac{kT}{V}\\right)^{\\sum\\limits_i\\nu_i}\\prod\\limits_iQ_i^{\\nu_i}e^{-\\theta_d/T}\n",
      "\\end{align}$\n",
      "\n",
      "So we're able to get partial pressures from partition functions"
     ]
    },
    {
     "cell_type": "code",
     "collapsed": true,
     "input": [
      "# INPUTS\n",
      "Tmax = 15000 \t#K\n",
      "Tmin = 2000 \t#K\n",
      "N = 1000\n",
      "\n",
      "## INITIALIZE ALL VARIABLES\n",
      "Y = 8 # NUMBER OF SPECIES\n",
      "# PROGRAMMING VALUES\n",
      "z = (Tmax - Tmin)/(N)\n",
      "\n",
      "# UNIVERSAL CONSTANTS\n",
      "RGAS = 8314\t\t#J/kmol-K\n",
      "H = 6.625E-34\t        #M2-KG/S\n",
      "K = 1.381E-23\t\t#M2-KG/S2\n",
      "NA = 6.022E23*1000\t#/KMOL\n",
      "\n",
      "# GAS PROPERTIES\n",
      "mM = array([28.0134,14.0067,31.9988,15.9994,30.0061,9.10938E-31*NA,15.9994,14.0067]) \n",
      "#KG/KMOL -- N2, N, O2, O, NO\n",
      "\n",
      "M = mM/NA \t\t#KG/MOLECULE\n",
      "R = RGAS/mM             #J/KG-K\n",
      "R0 = RGAS/(28.97)       #J/KG-K"
     ],
     "language": "python",
     "metadata": {},
     "outputs": [],
     "prompt_number": 2
    },
    {
     "cell_type": "markdown",
     "metadata": {},
     "source": [
      "where the species numbers are ordered as so: N$_2$, N, O$_2$, O, NO; and the ions: e$^-$, O$^+$, N$^+$, and NO$^+$"
     ]
    },
    {
     "cell_type": "markdown",
     "metadata": {},
     "source": [
      "In the statistical model, we have characteristic temperatures for different modes of energy. For the molecules (not ions) used in this study, we have these values"
     ]
    },
    {
     "cell_type": "code",
     "collapsed": true,
     "input": [
      "# ROTATIONAL ENERGY\n",
      "TH_R = array([2.9,0,2.1,0,2.5]) \t\n",
      "# VIBRATIONAL ENERGY\n",
      "TH_V = array([3390,0,2270,0,2740]) \t\n",
      "# HEAT OF DISSOCATION\n",
      "TH_D = array([113000,0,59500,0,75500]) \t\n",
      "# IONIZATION ENERGY\n",
      "TH_I = array([181,168.8,142,158,108])*10**3. \t\n",
      "# STOICHIOMETRIC COEFFICIENTS\n",
      "SIGMA = array([2,0,2,0,1])"
     ],
     "language": "python",
     "metadata": {},
     "outputs": [],
     "prompt_number": 3
    },
    {
     "cell_type": "markdown",
     "metadata": {},
     "source": [
      "After establishing all the inputs above, the last step is to choose an ambient temperature. This value can be varied in a parametric study. I start with just atmospheric pressure"
     ]
    },
    {
     "cell_type": "code",
     "collapsed": true,
     "input": [
      "Pin = 1 #atm"
     ],
     "language": "python",
     "metadata": {},
     "outputs": [],
     "prompt_number": 4
    },
    {
     "cell_type": "markdown",
     "metadata": {},
     "source": [
      "Because my code is impossibly inefficient, the best thing to do is initialize all the variables I use inside loops to just give a modicum of speed to the whole thing. This is a huge block of basically all programming and output variables"
     ]
    },
    {
     "cell_type": "code",
     "collapsed": true,
     "input": [
      "a=      zeros(N)\n",
      "astar=  zeros(N)\n",
      "g = zeros((6,Y))\n",
      "g[0,:] = array([1,4,3,5,2,2,4,1])\n",
      "g[1,:] = array([0,10,2,3,2,0,10,3])\n",
      "g[2,:] = array([0,6,2,1,0,0,6,5])\n",
      "g[3,:] = array([0,0,0,5,0,0,0,5])\n",
      "g[4,:] = array([0,0,0,1,0,0,0,1])\n",
      "g[5,:] = array([0,0,0,0,0,0,0,5])\n",
      "th_el = zeros((6,Y))\n",
      "th_el[0,:] = array([0,0,0,0,0,0,0,0])\n",
      "th_el[1,:] = array([0,27700,11390,228,174,0,38600,70.6])\n",
      "th_el[2,:] = array([0,41500,18990,326,0,0,58200,188.9])\n",
      "th_el[3,:] = array([0,0,0,22800,0,0,0,22000])\n",
      "th_el[4,:] = array([0,0,0,48600,0,0,0,47000])\n",
      "th_el[5,:] = array([0,0,0,0,0,0,0,67900])\n",
      "cv_t=   zeros(Y)\n",
      "cv_r=   zeros(Y)\n",
      "cv_v=   zeros(Y)\n",
      "cv_el=  zeros(Y)\n",
      "cv=     zeros((N,Y))\n",
      "cstar=  zeros(N)\n",
      "gamma=  zeros(N)\n",
      "RT=     zeros(N)\n",
      "Q=      zeros((N,Y))\n",
      "T=      zeros(N)\n",
      "Q_t=    zeros(Y)\n",
      "Q_r=    zeros(Y)\n",
      "Q_v=    zeros(Y)\n",
      "Q_el=   zeros(Y)\n",
      "KP=     zeros((N,Y))\n",
      "PARTP=  zeros((N,Y))\n",
      "P_TOT=  zeros(N)\n",
      "X=      zeros((N,Y))\n",
      "RHO=    zeros((N,Y))\n",
      "RHOT=   zeros(N)\n",
      "rhostar=zeros((N,Y))\n",
      "w=      zeros((N,Y))\n",
      "C=      zeros((N,Y))\n",
      "E=      zeros((N,Y))\n",
      "E_TOT=  zeros(N)\n",
      "Estar=  zeros(N)\n",
      "HH=     zeros((N,Y))\n",
      "H_TOT=  zeros(N)\n",
      "hstar=  zeros(N)\n",
      "S=      zeros((N,Y))\n",
      "S_t=    zeros(Y)\n",
      "S_r=    zeros(Y)\n",
      "S_v=    zeros(Y)\n",
      "S_el=   zeros(Y)\n",
      "S_TOT=  zeros(N)\n",
      "Sstar=  zeros(N)\n",
      "cv_tot= zeros(N)\n",
      "cp_tot= zeros(N)\n",
      "eel=    zeros(Y)\n",
      "ecomp=  zeros(N)\n",
      "scomp=  zeros(N)\n",
      "# Zero energy state corrections\n",
      "e0 =    zeros(Y)\n",
      "e0[0] = 0;\n",
      "e0[1] = .5*R[1]*TH_D[0];\n",
      "e0[2] = 0;\n",
      "e0[3] = .5*R[3]*TH_D[2];\n",
      "e0[4] = R[4]*(-TH_D[4] + .5*(TH_D[0]+TH_D[2]));\n",
      "e0[5] = 0;\n",
      "e0[6] = R[6]*(TH_D[2]/2 + TH_I[3]);\n",
      "e0[7] = R[7]*(TH_D[0]/2 + TH_I[1]);"
     ],
     "language": "python",
     "metadata": {},
     "outputs": [],
     "prompt_number": 5
    },
    {
     "cell_type": "markdown",
     "metadata": {},
     "source": [
      "## Partial pressures\n",
      "Partition functions for electric, translational, vibrational, and rotational are derived elsewhere. I use their results to solve for the total partition function,\n",
      "\n",
      "$Q = Q_\\text{el}Q_\\text{tr}Q_\\text{rot}Q_\\text{vib}$\n",
      "\n",
      "These are found as a function of temperature and then used to find the [Kp?]. From this we can ultimately find the partial pressure of all molecules/ions in this idealized version of air.\n",
      "\n",
      "Finding the partial pressures involves solving the equations linking them all. Because they are highly coupled, I just use scipy's built-in fsolve function. This is tempermental and sensitive to the intial guess. If not done properly you can get garbage out of your solution.\n",
      "\n",
      "With partial pressures found, we can directly calculate mass and molar fractions"
     ]
    },
    {
     "cell_type": "code",
     "collapsed": false,
     "input": [
      "from scipy import optimize\n",
      "\n",
      "P = Pin*101325.; #PA\n",
      "# initial pressure partitioning is based on known molar ratios of nitrogen and oxygen for room temperature air\n",
      "PARTPi = np.zeros(Y)+P/Y\n",
      "#PARTPi = array([0.79,0,0.21,0,0,0,0,0])*P\n",
      "rho0 = P/(R0*300);\n",
      "\n",
      "for i in arange(0,1):\n",
      "#for i in arange(0,1):\n",
      "    T[i] = Tmin + z*i\n",
      "    # PARTITION FUNCTIONS\n",
      "    Q_el[0] = 1;\n",
      "    Q_el[1] = 4 + 10*exp(-27700/T[i]) + 6*exp(-41500/T[i])\n",
      "    Q_el[2] = 3 + 2*exp(-11390/T[i]) + 2*exp(-18990/T[i])\n",
      "    Q_el[3] = 5 + 3*exp(-228/T[i]) + 1*exp(-326/T[i]) \\\n",
      "              + 5*exp(-22800/T[i]) + 1*exp(-48600/T[i])\n",
      "    Q_el[4] = 2 + 2*exp(-174/T[i])\n",
      "    Q_el[5] = 2\n",
      "    Q_el[6] = 4 + 10*exp(-38600/T[i]) + 6*exp(-58200/T[i])\n",
      "    Q_el[7] = 1 + 3*exp(-70.6/T[i]) + 5*exp(-188.9/T[i]) + \\\n",
      "              5*exp(-22000/T[i]) + 1*exp(-47000/T[i]) + \\\n",
      "              5*exp(-67900/T[i])\n",
      "    \n",
      "    for j in arange(0,Y):\n",
      "        Q_t[j] = (2.*pi*M[j]*K*T[i]/(H**2.))**(3./2)\n",
      "        if j == 0 or j == 2 or j == 4:\n",
      "            Q_r[j] = T[i]/(SIGMA[j]*TH_R[j])\n",
      "            Q_v[j] = 1./(1-exp(-TH_V[j]/T[i]))\n",
      "        else:\n",
      "            Q_r[j] = 1.\n",
      "            Q_v[j] = 1.\n",
      "        \n",
      "        Q[i,j] = Q_t[j]*Q_r[j]*Q_v[j]*Q_el[j]\n",
      "\n",
      "    \n",
      "    KP[i,0] = 1/(K*T[i]) * exp(TH_D[0]/T[i]) * Q[i,0]/Q[i,1]**2\n",
      "    KP[i,1] = 1/(K*T[i]) * exp(TH_D[2]/T[i]) * Q[i,2]/Q[i,3]**2\n",
      "    KP[i,2] = 1/(K*T[i]) * exp(TH_D[4]/T[i]) * Q[i,4]/(Q[i,1]*Q[i,3])\n",
      "    KP[i,3] = 1/(K*T[i]) * exp(TH_I[3]/T[i]) * Q[i,3]/(Q[i,5]*Q[i,6])\n",
      "    KP[i,4] = 1/(K*T[i]) * exp(TH_I[1]/T[i]) * Q[i,1]/(Q[i,5]*Q[i,7])\n",
      "    \n",
      "    kpi = KP[i,:]\n",
      "\n",
      "    def eqn(p, kp, p0): \n",
      "        f =    [kp[0] * p[1]**2./p[0] - 1.,\\\n",
      "                kp[1] * p[3]**2./p[1] - 1.,\\\n",
      "                (21./79)* (2*p[0]+p[1]+p[4]+p[7])/(2.*p[2]+p[3]+p[4]+p[6]) - 1.,\\\n",
      "                1 - (p[0] + p[1] + p[2] + p[3] + p[4] + p[5] + p[6] + p[7])/p0,\\\n",
      "                kp[2]*(p[1]*p[3])/p[4] - 1.,\\\n",
      "                kp[3]*(p[6]*p[5])/p[3] - 1.,\\\n",
      "                kp[4]*(p[7]*p[5])/p[1] - 1.,\\\n",
      "                p[5] - p[6] - p[7]]\n",
      "        return f\n",
      "    def eqn_jacobian(p, kp):\n",
      "        jac = np.zeros([8,8])\n",
      "        jac[:,0] = np.array([-1, 2*kp[0]*p[1], 0, 0, 0, 0, 0, 0])\n",
      "        jac[:,1] = np.array([0, -1, 0, 2*kp[1]*p[3], 0, 0, 0, 0])\n",
      "        jac[:,2] = np.array([(21/79.)*2, (21/79.), -2, -1, (21/79.)-1, 0, -1, (21/79.)])\n",
      "        jac[:,3] = np.array([-1, -1, -1, -1, -1, -1, -1, -1])\n",
      "        jac[:,4] = np.array([0, kp[2]*p[3], 0, kp[2]*p[1], -1, 0, 0, 0])\n",
      "        jac[:,5] = np.array([0, 0, 0, -1, 0, kp[3]*p[6], kp[3]*p[5], 0])\n",
      "        jac[:,6] = np.array([0, -1, 0, 0, 0, kp[4]*p[7], 0, kp[4]*p[5]])\n",
      "        jac[:,7] = np.array([0, 0, 0, 0, 0, 1, -1, -1])\n",
      "        return jac\n",
      "    print eqn(PARTPi, kpi, P)\n",
      "    sol = optimize.fsolve(eqn, PARTPi, args=(kpi, P ))\n",
      "    #sol = optimize.fsolve(eqn,PARTPi, args=(kpi, P), fprime = eqn_jacobian(PARTPi, kpi), full_output=True) # THIS ISN'T WORKING. WHY??\n",
      "    #print str(sol[3])\n",
      "    PARTPi = sol\n",
      "    #PARTPi = sol['x']\n",
      "    PARTP[i,:] = PARTPi\n",
      "    RHOT[i]=0\n",
      "    P_TOT[i]=0\n",
      "    print PARTPi\n",
      "    for j in arange(0,Y):\n",
      "        P_TOT[i] = PARTPi[j]+P_TOT[i]\n",
      "        RHO[i,j] = PARTP[i,j]/(R[j]*T[i]) #kg/m3 DENSITY\n",
      "        RHOT[i] = RHOT[i] + RHO[i,j]\n",
      "        X[i,j]=PARTP[i,j]/(RGAS*T[i]) #kmol/m3 MOLE CONCENTRATION\n",
      "    \n",
      "    #Calculate mass fraction and mole fraction\n",
      "    temp=0\n",
      "    for j in arange(0,Y):\n",
      "        rhostar[i,j] = RHO[i,j]/rho0;\n",
      "        C[i,j] = RHO[i,j]/RHOT[i] # MASS FRACTION\n",
      "        temp = temp+C[i,j]/M[j] # USED TO FIND MASS-AVERAGED MOLECULAR WEIGHT\n",
      "    \n",
      "    mMT=1/temp;\n",
      "    for j in arange(0,Y):\n",
      "        w[i,j] = C[i,j]*mMT/M[j]; # MOLE FRACTION"
     ],
     "language": "python",
     "metadata": {},
     "outputs": [
      {
       "output_type": "stream",
       "stream": "stdout",
       "text": [
        "[1.3388206635870053e+17, 290990.07231095369, -0.73417721518987344, 0.0, 3993950819.9559312, 4.6085352052663133e+31, 2.2671868069653985e+33, -12665.625]\n",
        "[  4.03679158e+08   1.90586848e+03  -2.14118122e+14   2.04465471e+02\n",
        "   1.84826058e+07  -1.30584381e-04  -7.12988395e-07  -5.78943954e-06]\n"
       ]
      }
     ],
     "prompt_number": 71
    },
    {
     "cell_type": "code",
     "collapsed": false,
     "input": [
      "kpi"
     ],
     "language": "python",
     "metadata": {},
     "outputs": [
      {
       "metadata": {},
       "output_type": "pyout",
       "prompt_number": 62,
       "text": [
        "array([  1.05705061e+13,   2.29748688e+01,   3.15337839e+05,\n",
        "         3.63861650e+27,   1.79003153e+29,   0.00000000e+00,\n",
        "         0.00000000e+00,   0.00000000e+00])"
       ]
      }
     ],
     "prompt_number": 62
    },
    {
     "cell_type": "code",
     "collapsed": true,
     "input": [
      "plot(T,PARTP[:,0])"
     ],
     "language": "python",
     "metadata": {},
     "outputs": [
      {
       "metadata": {},
       "output_type": "pyout",
       "prompt_number": 51,
       "text": [
        "[<matplotlib.lines.Line2D at 0xc765e80>]"
       ]
      },
      {
       "metadata": {},
       "output_type": "display_data",
       "png": "[encoded data removed]",
       "text": [
        "<matplotlib.figure.Figure at 0xc8cf470>"
       ]
      }
     ],
     "prompt_number": 51
    },
    {
     "cell_type": "markdown",
     "metadata": {},
     "source": [
      "## Thermodynamics\n",
      "\n",
      "Now that we have the different physical values ($p_i$, $x_i$, and $w_i$), we can calculate other thermodynamic properties of interest."
     ]
    },
    {
     "cell_type": "markdown",
     "metadata": {},
     "source": [
      "### Compressibility factor\n",
      "A factor important to... people is the compressibility factor"
     ]
    },
    {
     "cell_type": "code",
     "collapsed": false,
     "input": [
      "Z=P/(RHOT*R0*T)\n",
      "plot(T,Z)"
     ],
     "language": "python",
     "metadata": {},
     "outputs": [
      {
       "metadata": {},
       "output_type": "pyout",
       "prompt_number": 7,
       "text": [
        "[<matplotlib.lines.Line2D at 0x8066668>]"
       ]
      },
      {
       "metadata": {},
       "output_type": "display_data",
       "png": "[encoded data removed]",
       "text": [
        "<matplotlib.figure.Figure at 0x8065128>"
       ]
      }
     ],
     "prompt_number": 7
    },
    {
     "cell_type": "markdown",
     "metadata": {},
     "source": [
      "### Internal energy"
     ]
    },
    {
     "cell_type": "code",
     "collapsed": true,
     "input": [
      "# FIND SPECIFIC INTERNAL ENERGY & DIMENSIONLESS INTERNAL ENERGY\n",
      "# COMMON REFERENCE STATE OF ZERO ENERGY IS SET AT THE COMPLETE COMBINED\n",
      "# DIATOMIC STATE\n",
      "for i in arange(0,N):\n",
      "    for j in arange(0,Y):\n",
      "        eel[j] = R[j]*th_el[1,j]*(g[1,j]/g[0,j])* \\\n",
      "            exp(-th_el[1,j]/T[i])/(1+(g[1,j]/g[0,j])*exp(-th_el[1,j]/T[i]));\n",
      "    \n",
      "    E[i,0] = 5/2*R[0]*T[i] + R[0]*TH_V[0]/(exp(TH_V[0]/T[i])-1) + eel[0] + e0[0]; #J/KG\n",
      "    E[i,2] = 5/2*R[2]*T[i] + R[2]*TH_V[2]/(exp(TH_V[2]/T[i])-1) + eel[1] + e0[2]; #J/KG\n",
      "    E[i,4] = 5/2*R[4]*T[i] + R[4]*TH_V[4]/(exp(TH_V[4]/T[i])-1) + eel[2] + e0[4]; #J/KG\n",
      "    E[i,1] = 3/2*R[1]*T[i] + eel[1] + e0[1]; #J/KG\n",
      "    E[i,3] = 3/2*R[3]*T[i] + eel[3] + e0[3]; #J/KG\n",
      "    E[i,5] = 3/2*R[5]*T[i] + eel[5] + e0[5]; #J/KG\n",
      "    E[i,6] = 3/2*R[6]*T[i] + eel[6] + e0[6]; #J/KG\n",
      "    E[i,7] = 3/2*R[7]*T[i] + eel[7] + e0[7]; #J/KG\n",
      "    \n",
      "    E_TOT[i] = 0; #J/KG\n",
      "    RT[i] = 0;\n",
      "    for j in arange(0,Y):\n",
      "        e_temp =C[i,j]*E[i,j]\n",
      "        r_temp =C[i,j]*R[j]\n",
      "        E_TOT[i]=E_TOT[i] + e_temp\n",
      "        RT[i] = RT[i] + r_temp\n",
      "    \n",
      "    # Dimensionless specific internal energy\n",
      "    Estar[i] = Z[i]*E_TOT[i]/(RT[i]*T[i]);\n",
      "plot(T,Estar)"
     ],
     "language": "python",
     "metadata": {},
     "outputs": [
      {
       "metadata": {},
       "output_type": "pyout",
       "prompt_number": 10,
       "text": [
        "[<matplotlib.lines.Line2D at 0xafa2898>]"
       ]
      },
      {
       "metadata": {},
       "output_type": "display_data",
       "png": "[encoded data removed]",
       "text": [
        "<matplotlib.figure.Figure at 0x80ac438>"
       ]
      }
     ],
     "prompt_number": 10
    },
    {
     "cell_type": "markdown",
     "metadata": {},
     "source": [
      "When you plot the energies against some reference values, there are errors at high temperature. I assumed this was due to inaccuracies in my electrical energy approximation. To find out, I wanted to calculate a comparison between electrical energy and all others."
     ]
    },
    {
     "cell_type": "code",
     "collapsed": true,
     "input": [
      "for i in arange(0,N):\n",
      "    ecomp[i] = 0; #J/KG\n",
      "    for j in arange(0,Y):\n",
      "        ecomp_temp = C[i,j]*eel[j]/(1.5*R[j]*T[i])\n",
      "        ecomp[i]=ecomp[i]+ecomp_temp"
     ],
     "language": "python",
     "metadata": {},
     "outputs": [],
     "prompt_number": 56
    },
    {
     "cell_type": "markdown",
     "metadata": {},
     "source": [
      "I'll use this value later."
     ]
    },
    {
     "cell_type": "markdown",
     "metadata": {},
     "source": [
      "### Enthalpy\n",
      "Another useful property is the specific enthalpy of the system, as contributed by each molecule."
     ]
    },
    {
     "cell_type": "code",
     "collapsed": true,
     "input": [
      "# FIND SPECIFIC ENTHALPY\n",
      "for i in arange(0,N):\n",
      "    H_TOT[i]=0; #J/KG\n",
      "    for j in arange(0,Y):\n",
      "        HH[i,j] = E[i,j] + R[j]*T[i] # J/KG\n",
      "        h_temp =C[i,j]*HH[i,j]\n",
      "        H_TOT[i]=H_TOT[i]+h_temp\n",
      "\n",
      "    hstar[i] = Z[i]*H_TOT[i]/(RT[i]*T[i])"
     ],
     "language": "python",
     "metadata": {},
     "outputs": [],
     "prompt_number": 57
    },
    {
     "cell_type": "markdown",
     "metadata": {},
     "source": [
      "### Entropy\n",
      "One of the most important properties is entropy. It is this property that allows us to connect statistical thermodynamics to classical via Boltzmann's famous equation, $S = k \\ln W$"
     ]
    },
    {
     "cell_type": "code",
     "collapsed": true,
     "input": [
      "# FIND SPECIFIC ENTROPY & DIMENSIONLESS ENTROPY\n",
      "for i in arange(0,N):\n",
      "    for j in arange(0,Y):\n",
      "        S_el[j] = R[j]*(log(g[0,j]) + log(1+(g[1,j]/g[0,j])*exp(-th_el[1,j]/T[i])) + \\\n",
      "                  (g[1,j]/g[0,j])*(th_el[1,j]/T[i])*exp(-th_el[1,j]/T[i])/\\\n",
      "                  (1+(g[1,j]/g[0,j])*exp(-th_el[1,j]/T[i])))\n",
      "    \n",
      "    for j in arange(0,Y):\n",
      "        S_t[j] = 5/2.*R[j]*log(T[i]) - R[j]*log(P) + R[j]*\\\n",
      "                 (log((2*pi*M[j]/(H**2))**(3/2.)*K**(5/2.))+5/2)\n",
      "        if j == 0 or j == 2 or j == 4:\n",
      "            S_v[j] = R[j]*(-log(1-exp(-TH_V[j]/T[i])) + TH_V[j]/T[i]/\\\n",
      "                           (exp(TH_V[j]/T[i])-1));\n",
      "            S_r[j] = R[j]*(log(T[i]/(SIGMA[j]*TH_R[j]))+1);\n",
      "        else:\n",
      "            S_r[j] = 0;\n",
      "            S_v[j] = 0;\n",
      "        S[i,j] = S_t[j]+S_r[j]+S_v[j]+S_el[j];\n",
      "\n",
      "    \n",
      "    S_TOT[i] = 0; #J/KG-K\n",
      "    for j in arange(0,Y):\n",
      "        s_temp =C[i,j]*S[i,j];\n",
      "        S_TOT[i]=S_TOT[i]+s_temp;\n",
      "    \n",
      "    # Dimensionless specific entropy\n",
      "    Sstar[i] = Z[i]*S_TOT[i]/(RT[i]);\n",
      "    \n",
      "    scomp[i] = 0; #J/KG\n",
      "    for j in arange(0,Y):\n",
      "        scomp_temp =C[i,j]*S_el[j]/S_t[j];\n",
      "        scomp[i]=scomp[i]+scomp_temp"
     ],
     "language": "python",
     "metadata": {},
     "outputs": [],
     "prompt_number": 58
    },
    {
     "cell_type": "markdown",
     "metadata": {},
     "source": [
      "###Specific heat"
     ]
    },
    {
     "cell_type": "code",
     "collapsed": true,
     "input": [
      "# Find specific heat\n",
      "for i in arange(0,N):\n",
      "    for j in arange(0,Y):\n",
      "        cv_t[j] = (3/2.)*R[j];\n",
      "        #cv_el(j) = 0;\n",
      "        cv_el[j] = R[j]*(th_el[1,j]/T[i])**2*(g[1,j]/g[0,j])*\\\n",
      "                   exp(-th_el[1,j]/T[i])/(1+(g[1,j]/g[0,j])*\\\n",
      "                   exp(-th_el[1,j]/T[i]))**2;\n",
      "        if j == 0 or j == 2 or j == 4:\n",
      "            cv_v[j] = R[j]*((TH_V[j]/(2*T[i]))/(sinh(TH_V[j]/(2*T[i]))))**2;\n",
      "            cv_r[j] = R[j];\n",
      "        else:\n",
      "            cv_r[j] = 0;\n",
      "            cv_v[j] = 0;\n",
      "\n",
      "        cv[i,j] = cv_t[j]+cv_r[j]+cv_v[j]+cv_el[j];\n",
      "\n",
      "    cv_tot[i]=0;\n",
      "    for j in arange(0,Y):\n",
      "        cv_temp =C[i,j]*cv[i,j];\n",
      "        cv_tot[i]=cv_tot[i]+cv_temp;\n",
      "    cp_tot[i] = cv_tot[i] + RT[i];\n",
      "    \n",
      "    # Dimensionless specific entropy\n",
      "    cstar[i] = Z[i]*cv_tot[i]/(RT[i]);\n",
      "    gamma[i] = cp_tot[i]/cv_tot[i];\n",
      "    a_ideal  = sqrt(1.4*R0*T[i]);\n",
      "    a[i]     = sqrt(gamma[i]*RT[i]*T[i]);\n",
      "    astar[i] = a[i]/a_ideal"
     ],
     "language": "python",
     "metadata": {},
     "outputs": [
      {
       "output_type": "stream",
       "stream": "stderr",
       "text": [
        "-c:26: RuntimeWarning: invalid value encountered in sqrt\n"
       ]
      }
     ],
     "prompt_number": 59
    },
    {
     "cell_type": "code",
     "collapsed": true,
     "input": [
      "plot(T,a)"
     ],
     "language": "python",
     "metadata": {},
     "outputs": [
      {
       "metadata": {},
       "output_type": "pyout",
       "prompt_number": 60,
       "text": [
        "[<matplotlib.lines.Line2D at 0xbfd1898>]"
       ]
      },
      {
       "metadata": {},
       "output_type": "display_data",
       "png": "[encoded data removed]",
       "text": [
        "<matplotlib.figure.Figure at 0xb3fd390>"
       ]
      }
     ],
     "prompt_number": 60
    },
    {
     "cell_type": "code",
     "collapsed": false,
     "input": [
      "import scipy\n",
      "import scipy.optimize\n",
      "f = lambda x: [x[0]**2 - 2*x[0]*x[1] - x[2], x[0]*x[1] + x[1]**2*x[2], x[2]*x[0] - x[1]*x[2]+ x[0] - 1]    \n",
      "x0 = scipy.optimize.fsolve(f, [1, -1, 2])\n",
      "print x0"
     ],
     "language": "python",
     "metadata": {},
     "outputs": [
      {
       "output_type": "stream",
       "stream": "stdout",
       "text": [
        "[ 0.38196601 -0.61803399  0.61803399]\n"
       ]
      }
     ],
     "prompt_number": 61
    },
    {
     "cell_type": "code",
     "collapsed": true,
     "input": [],
     "language": "python",
     "metadata": {},
     "outputs": []
    }
   ],
   "metadata": {}
  }
 ]
}